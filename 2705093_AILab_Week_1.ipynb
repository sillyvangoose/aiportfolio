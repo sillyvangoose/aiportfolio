{
 "cells": [
  {
   "cell_type": "markdown",
   "id": "74030cbd",
   "metadata": {},
   "source": [
    "# Week 1: Getting Started with Anaconda, Jupyter Notebook and Python\n",
    "A: Why I joined the course, for motivation, vision, aspiration? Aspiration!\n",
    "B: No real prior experience with AI beyond encountering it in every day life.\n",
    "C: Just in general more about AI, I want to immerse myself in it and branch out my knowledge!\n",
    "message + message prints it twice with no space, message*3 does it three times with no spaces in between, message in brackets 0 prints only the first letter, i think bc each number is associated with the order of the letter (0 is first letter 1 is second letter)\n",
    "I think message is a good variable name for the time being, but it should definitely change to fit the situation as time goes on"
   ]
  },
  {
   "cell_type": "code",
   "execution_count": null,
   "id": "267330d3",
   "metadata": {},
   "outputs": [],
   "source": [
    "variable = \"buying my wii was a mistake\"\n",
    "print (variable)"
   ]
  },
  {
   "cell_type": "code",
   "execution_count": null,
   "id": "648be6e1",
   "metadata": {},
   "outputs": [],
   "source": [
    "from IPython.display import *"
   ]
  },
  {
   "cell_type": "code",
   "execution_count": null,
   "id": "6d202e39",
   "metadata": {},
   "outputs": [],
   "source": [
    "YouTubeVideo(\"bsyY9m7Q2KI?si=dSl1FCb21rM7DkUM\")"
   ]
  },
  {
   "cell_type": "markdown",
   "id": "a18c354f",
   "metadata": {},
   "source": [
    "# Week 2: Exploring Data "
   ]
  },
  {
   "cell_type": "code",
   "execution_count": null,
   "id": "6d9168b7",
   "metadata": {},
   "outputs": [],
   "source": [
    "from IPython.display import Image"
   ]
  },
  {
   "cell_type": "code",
   "execution_count": null,
   "id": "779d5d1f",
   "metadata": {},
   "outputs": [],
   "source": [
    "Image (\"picture1.jpg\")"
   ]
  },
  {
   "cell_type": "code",
   "execution_count": null,
   "id": "85edb220",
   "metadata": {},
   "outputs": [],
   "source": [
    "from IPython.display import Audio"
   ]
  },
  {
   "cell_type": "code",
   "execution_count": null,
   "id": "80d56e04",
   "metadata": {},
   "outputs": [],
   "source": [
    "Audio (\"audio1.mid\")"
   ]
  },
  {
   "cell_type": "code",
   "execution_count": null,
   "id": "6cb4ba9e",
   "metadata": {},
   "outputs": [],
   "source": [
    "Audio (\"audio2.ogg\")\n",
    "#This file is licensed under the Creative Commons Attribution-Share Alike 3.0 Unported license. You are free: to share – to copy, distribute and transmit the work, to remix – to adapt the work, Under the following conditions: attribution – You must give appropriate credit, provide a link to the, license, and indicate if changes were made. You may do so in any, reasonable manner, but not in any way that suggests the licensor endorses you or your use. share alike – If you remix, transform, or build upon the material, you must distribute your contributions under the same or compatible license as the original. The original ogg file was found at the url: https://en.wikipedia.org/wiki/File:GoldbergVariations_MehmetOkonsar1of3_Var1to10.ogg"
   ]
  },
  {
   "cell_type": "markdown",
   "id": "f90628ab",
   "metadata": {},
   "source": [
    "Only audio 2 played, I think this might be because Jupyter doesn't support .mid files? Also I'm not sure where to put the attribution so I put it above in the code."
   ]
  },
  {
   "cell_type": "markdown",
   "id": "907be27f",
   "metadata": {},
   "source": [
    "# Week 2 Part 2: madplotlib"
   ]
  },
  {
   "cell_type": "code",
   "execution_count": null,
   "id": "01f97bda",
   "metadata": {},
   "outputs": [],
   "source": [
    "from matplotlib import pyplot\n",
    "test_picture = pyplot.imread(\"picture1.jpg\")\n",
    "print(\"Numpy array of the image: \", test_picture)\n",
    "pyplot.imshow(test_picture)"
   ]
  },
  {
   "cell_type": "markdown",
   "id": "1dc41677",
   "metadata": {},
   "source": [
    "I'm not exactly sure what's going on here, but maybe the series of numbers are R, B, G arrays for the colors of the pixels in the photo?"
   ]
  },
  {
   "cell_type": "markdown",
   "id": "7b2f1243",
   "metadata": {},
   "source": [
    "# Week 2 Part 3: scikit-learn"
   ]
  },
  {
   "cell_type": "code",
   "execution_count": null,
   "id": "de4e3ed5",
   "metadata": {},
   "outputs": [],
   "source": [
    "from sklearn import datasets\n",
    "dir (datasets)"
   ]
  },
  {
   "cell_type": "markdown",
   "id": "ec97db77",
   "metadata": {},
   "source": [
    "I'm picking load_wine and load_iris because I am curious as to what data is associated with wine and iris, what exactly is it measuring?"
   ]
  },
  {
   "cell_type": "code",
   "execution_count": null,
   "id": "e8560c86",
   "metadata": {},
   "outputs": [],
   "source": [
    "wine_data = datasets.load_wine()"
   ]
  },
  {
   "cell_type": "code",
   "execution_count": null,
   "id": "7fd28540",
   "metadata": {},
   "outputs": [],
   "source": [
    "wine_data.DESCR"
   ]
  },
  {
   "cell_type": "code",
   "execution_count": null,
   "id": "c4a90ce2",
   "metadata": {},
   "outputs": [],
   "source": [
    "print(wine_data.DESCR)"
   ]
  },
  {
   "cell_type": "code",
   "execution_count": null,
   "id": "d5eeb77e",
   "metadata": {},
   "outputs": [],
   "source": [
    "iris_data = datasets.load_iris()"
   ]
  },
  {
   "cell_type": "code",
   "execution_count": null,
   "id": "1c8dfa44",
   "metadata": {},
   "outputs": [],
   "source": [
    "iris_data.DESCR"
   ]
  },
  {
   "cell_type": "code",
   "execution_count": null,
   "id": "5bfc8f49",
   "metadata": {},
   "outputs": [],
   "source": [
    "print(iris_data.DESCR)"
   ]
  },
  {
   "cell_type": "code",
   "execution_count": null,
   "id": "9009a77e",
   "metadata": {},
   "outputs": [],
   "source": [
    "iris_data.feature_names"
   ]
  },
  {
   "cell_type": "code",
   "execution_count": null,
   "id": "dbec4320",
   "metadata": {},
   "outputs": [],
   "source": [
    "iris_data.target_names"
   ]
  },
  {
   "cell_type": "code",
   "execution_count": null,
   "id": "1dbb87e2",
   "metadata": {},
   "outputs": [],
   "source": [
    "wine_data.feature_names"
   ]
  },
  {
   "cell_type": "code",
   "execution_count": null,
   "id": "ad56ba00",
   "metadata": {},
   "outputs": [],
   "source": [
    "wine_data.target_names"
   ]
  },
  {
   "cell_type": "markdown",
   "id": "955dd42e",
   "metadata": {},
   "source": [
    "# Week 2: Pandas!"
   ]
  },
  {
   "cell_type": "code",
   "execution_count": null,
   "id": "0cce95fb",
   "metadata": {},
   "outputs": [],
   "source": [
    "from sklearn import datasets\n",
    "import pandas\n",
    "wine_data = datasets.load_wine()\n",
    "wine_dataframe = pandas.DataFrame(data=wine_data['data'], columns = wine_data['feature_names'])"
   ]
  },
  {
   "cell_type": "code",
   "execution_count": null,
   "id": "23c1ebd6",
   "metadata": {},
   "outputs": [],
   "source": [
    "wine_dataframe.head()\n",
    "wine_dataframe.describe()"
   ]
  },
  {
   "cell_type": "markdown",
   "id": "6f6f5a2c",
   "metadata": {},
   "source": [
    "I think these commands assign labels/descriptions of the data, on the top and side row, assigning meaning to the information in the table"
   ]
  },
  {
   "cell_type": "markdown",
   "id": "5bbe709a",
   "metadata": {},
   "source": [
    "# Week 3: Thinking About Data Bias"
   ]
  },
  {
   "cell_type": "markdown",
   "id": "84047773",
   "metadata": {},
   "source": [
    "Article by Prabhakar Krishnamurthy thoughts below:\n",
    "I think it is very generous to say that most ML modelers don't realise the bias is happening or they do and don't know what to do about it. That is not backed up with any evidence, and no sources are cited. Additionally, ML modelers not noticing that there is a bias is a bias in itself, they are priveledged enough to not think about racism or sexism, as the majority of people involved in computer science are white and male, so they do not think about bias being there. Additionally, if most ML modelers don't know it's there, then why is the first part of the article a list of instances of bias that are backed up by evidence? I'm more inclined to agree with the instances backed up by evidence that there has been bias rather than speculation/opinions that bias does not happen."
   ]
  },
  {
   "cell_type": "code",
   "execution_count": null,
   "id": "034e8e6e",
   "metadata": {},
   "outputs": [],
   "source": [
    "!pipreqs"
   ]
  }
 ],
 "metadata": {
  "kernelspec": {
   "display_name": "Python 3 (ipykernel)",
   "language": "python",
   "name": "python3"
  },
  "language_info": {
   "codemirror_mode": {
    "name": "ipython",
    "version": 3
   },
   "file_extension": ".py",
   "mimetype": "text/x-python",
   "name": "python",
   "nbconvert_exporter": "python",
   "pygments_lexer": "ipython3",
   "version": "3.10.9"
  }
 },
 "nbformat": 4,
 "nbformat_minor": 5
}
